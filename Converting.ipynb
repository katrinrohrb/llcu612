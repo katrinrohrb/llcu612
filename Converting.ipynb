{
 "cells": [
  {
   "cell_type": "markdown",
   "metadata": {},
   "source": [
    "# Converting: Macbeth"
   ]
  },
  {
   "cell_type": "code",
   "execution_count": 3,
   "metadata": {},
   "outputs": [
    {
     "data": {
      "text/plain": [
       "'\\ufeffThis Etext file is presented by Project Gutenberg, in\\r\\ncooperation with World L'"
      ]
     },
     "execution_count": 3,
     "metadata": {},
     "output_type": "execute_result"
    }
   ],
   "source": [
    "import urllib.request\n",
    "url = \"http://www.gutenberg.org/cache/epub/1129/pg1129.txt\" # url to use\n",
    "source = urllib.request.urlopen(url).read().decode() \n",
    "source[0:80]"
   ]
  },
  {
   "cell_type": "code",
   "execution_count": 4,
   "metadata": {},
   "outputs": [
    {
     "data": {
      "text/plain": [
       "3194"
      ]
     },
     "execution_count": 4,
     "metadata": {},
     "output_type": "execute_result"
    }
   ],
   "source": [
    "sourceString = str(source)\n",
    "lines = sourceString.split(\"\\r\\n\")\n",
    "len(lines)"
   ]
  },
  {
   "cell_type": "code",
   "execution_count": 5,
   "metadata": {},
   "outputs": [
    {
     "data": {
      "text/plain": [
       "3194"
      ]
     },
     "execution_count": 5,
     "metadata": {},
     "output_type": "execute_result"
    }
   ],
   "source": [
    "lines = sourceString.split(\"\\r\\n\") # count lines in the source document\n",
    "len(lines)"
   ]
  },
  {
   "cell_type": "markdown",
   "metadata": {},
   "source": [
    "## Isolate speeches"
   ]
  },
  {
   "cell_type": "code",
   "execution_count": 7,
   "metadata": {},
   "outputs": [],
   "source": [
    "locationofScene = source.find(\"SCENE:\") # search for SCENE\n",
    "noStart = source[locationofScene:]"
   ]
  },
  {
   "cell_type": "code",
   "execution_count": 22,
   "metadata": {},
   "outputs": [
    {
     "name": "stdout",
     "output_type": "stream",
     "text": [
      "SCENE: Scotland and England\r\n",
      "\r\n",
      "\r\n",
      "ACT I. SCENE I.\r\n",
      "A desert place. Thunder and li \n",
      "\n",
      "                                             Flourish. Exeunt.\r\n",
      "                 \n"
     ]
    }
   ],
   "source": [
    "locationofScene = source.find(\"SCENE:\") # document starts here\n",
    "noStart = source[locationofScene:]\n",
    "locationOfEnd = noStart.find(\"-THE END-\")# document ends here\n",
    "macbeth = noStart[0:locationOfEnd] \n",
    "print(macbeth[0:80],  \"\\n\\n\", macbeth[-80:]) #preview"
   ]
  },
  {
   "cell_type": "markdown",
   "metadata": {},
   "source": [
    "## Remove character names"
   ]
  },
  {
   "cell_type": "code",
   "execution_count": 21,
   "metadata": {},
   "outputs": [],
   "source": [
    "import re # import regular expressions"
   ]
  },
  {
   "cell_type": "code",
   "execution_count": 23,
   "metadata": {},
   "outputs": [
    {
     "data": {
      "text/plain": [
       "['',\n",
       " '',\n",
       " '',\n",
       " '',\n",
       " ' When shall we three meet again?',\n",
       " '    In thunder, lightning, or in rain?',\n",
       " \" When the hurlyburly's done,\",\n",
       " \"    When the battle's lost and won.\",\n",
       " ' That will be ere the set of sun.',\n",
       " ' Where the place?',\n",
       " ' Upon the heath.',\n",
       " ' There to meet with Macbeth.',\n",
       " ' I come, Graymalkin.',\n",
       " ' Paddock calls. Anon!',\n",
       " '    Fair is foul, and foul is fair.',\n",
       " '    Hover through the fog and filthy air.                Exeunt.',\n",
       " '',\n",
       " '',\n",
       " '',\n",
       " '',\n",
       " '',\n",
       " '',\n",
       " ' What bloody man is that? He can report,',\n",
       " '    As seemeth by his plight, of the revolt',\n",
       " '    The newest state.',\n",
       " ' This is the sergeant',\n",
       " '    Who like a good and hardy soldier fought',\n",
       " \"    'Gainst my captivity. Hail, brave friend!\",\n",
       " '    Say to the King the knowledge of the broil',\n",
       " '    As thou didst leave it.']"
      ]
     },
     "execution_count": 23,
     "metadata": {},
     "output_type": "execute_result"
    }
   ],
   "source": [
    "lines = macbeth.split(\"\\r\\n\")\n",
    "speeches = []\n",
    "for line in lines: \n",
    "    if not re.match(\"^\\S\", line): \n",
    "        noCharacter = re.sub(r'^\\s+[A-Z]+( [A-Z]+)*\\.', \"\", line) # regular expression, to remove words that are written in uppercase characters \n",
    "        speeches.append(noCharacter)\n",
    "speeches[0:30] #preview\n",
    "        "
   ]
  }
 ],
 "metadata": {
  "kernelspec": {
   "display_name": "Python 3",
   "language": "python",
   "name": "python3"
  },
  "language_info": {
   "codemirror_mode": {
    "name": "ipython",
    "version": 3
   },
   "file_extension": ".py",
   "mimetype": "text/x-python",
   "name": "python",
   "nbconvert_exporter": "python",
   "pygments_lexer": "ipython3",
   "version": "3.7.1"
  }
 },
 "nbformat": 4,
 "nbformat_minor": 2
}
