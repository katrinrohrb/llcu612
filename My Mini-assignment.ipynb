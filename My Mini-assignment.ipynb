{
 "cells": [
  {
   "cell_type": "markdown",
   "metadata": {},
   "source": [
    "#### For this week’s mini-assignment, use Austen’s corpus and tokenize the string in Jupyter. Then choose which works you want to search for. Show a table of the top 20 words. Experiment a bit by adding and removing words from your stopword list. Then analyze the tokens for collocation. Analyze how often a pair of words appears in the same sentence (word collocates with phrases). Try this with both, voyant and jupyter, and reflect on your results.\n",
    "\n",
    "Instead of Austen's corpus I used a Korpus of Kafa's works (all texts I could find on gutenberg.org), compiled them and got rid of the \"paratexts\" and everything else that is not necessary. \n",
    "\n",
    "First, I'm going to import everything I need, list my files (to see what I have and if it's in the right directory) and count the total characters of my corpus. "
   ]
  },
  {
   "cell_type": "code",
   "execution_count": 304,
   "metadata": {},
   "outputs": [],
   "source": [
    "import nltk\n",
    "import glob\n",
    "import re\n",
    "import os"
   ]
  },
  {
   "cell_type": "code",
   "execution_count": 305,
   "metadata": {},
   "outputs": [
    {
     "data": {
      "text/plain": [
       "['kafka/betrachtung.txt',\n",
       " 'kafka/heizer.txt',\n",
       " 'kafka/hunger.txt',\n",
       " 'kafka/laerm.txt',\n",
       " 'kafka/Landarzt.txt',\n",
       " 'kafka/mord.txt',\n",
       " 'kafka/strafkolonie.txt',\n",
       " 'kafka/urteil.txt',\n",
       " 'kafka/verwandlung.txt']"
      ]
     },
     "execution_count": 305,
     "metadata": {},
     "output_type": "execute_result"
    }
   ],
   "source": [
    "textfiles = glob.glob(\"kafka/*txt\") # list files in local directory  \n",
    "textfiles"
   ]
  },
  {
   "cell_type": "code",
   "execution_count": 306,
   "metadata": {},
   "outputs": [
    {
     "data": {
      "text/plain": [
       "9"
      ]
     },
     "execution_count": 306,
     "metadata": {},
     "output_type": "execute_result"
    }
   ],
   "source": [
    "textList=[]\n",
    "for textFile in textfiles: # create a list \n",
    "    f = open(textFile, \"r\")\n",
    "    textList = textList + [f.read().upper()]\n",
    "    f.close()\n",
    "len(textList)"
   ]
  },
  {
   "cell_type": "code",
   "execution_count": 307,
   "metadata": {},
   "outputs": [
    {
     "data": {
      "text/plain": [
       "427145"
      ]
     },
     "execution_count": 307,
     "metadata": {},
     "output_type": "execute_result"
    }
   ],
   "source": [
    "kafkaString=\"\"\n",
    "for text in textList:\n",
    "    kafkaString = kafkaString +\"\\n\"+text\n",
    "len(kafkaString)"
   ]
  },
  {
   "cell_type": "code",
   "execution_count": 308,
   "metadata": {},
   "outputs": [
    {
     "name": "stdout",
     "output_type": "stream",
     "text": [
      "kafka/betrachtung.txt has 37277 characters\n",
      "total characters currently:  37277\n",
      "kafka/heizer.txt has 64506 characters\n",
      "total characters currently:  101783\n",
      "kafka/hunger.txt has 22839 characters\n",
      "total characters currently:  124622\n",
      "kafka/laerm.txt has 1293 characters\n",
      "total characters currently:  125915\n",
      "kafka/Landarzt.txt has 83985 characters\n",
      "total characters currently:  209900\n",
      "kafka/mord.txt has 4132 characters\n",
      "total characters currently:  214032\n",
      "kafka/strafkolonie.txt has 65456 characters\n",
      "total characters currently:  279488\n",
      "kafka/urteil.txt has 25093 characters\n",
      "total characters currently:  304581\n",
      "kafka/verwandlung.txt has 121288 characters\n",
      "total characters currently:  425869\n",
      "total characters:  425869\n"
     ]
    }
   ],
   "source": [
    "totalCharacters = 0\n",
    "textString=\"\"\n",
    "len(textString)\n",
    "for textFile in textfiles:\n",
    "    f = open(textFile, \"r\")\n",
    "    currentstring=f.read()\n",
    "    textString = textString + currentstring\n",
    "    f.close()\n",
    "    chars = len(currentstring)\n",
    "    print(textFile, \"has\", chars, \"characters\") # show each file name with the number of characters\n",
    "    totalCharacters += chars \n",
    "    print(\"total characters currently: \", totalCharacters)\n",
    "print(\"total characters: \", totalCharacters)"
   ]
  },
  {
   "cell_type": "markdown",
   "metadata": {},
   "source": [
    "#### Then, as proposed in my mini assignment, I show a table of the top 20 words in Kafka's corpus. "
   ]
  },
  {
   "cell_type": "code",
   "execution_count": 309,
   "metadata": {},
   "outputs": [
    {
     "name": "stdout",
     "output_type": "stream",
     "text": [
      "  der   und   die    er    zu   sie   den    in nicht  sich   ich    es   das   mit   dem  aber   war   auf   ein  dass \n",
      " 1861  1860  1829  1314   989   967   911   901   889   878   829   790   744   704   602   596   586   534   505   421 \n"
     ]
    }
   ],
   "source": [
    "# simple lowercase tokenize\n",
    "kafkaTokensLowercase = nltk.word_tokenize(kafkaString.lower())\n",
    "\n",
    "# filter out tokens that aren't words\n",
    "kafkaWordTokensLowercase = [word for word in kafkaTokensLowercase if word[0].isalpha()]\n",
    "\n",
    "# determine frequencies\n",
    "kafkaWordTokensLowercaseFreqs = nltk.FreqDist(kafkaWordTokensLowercase)\n",
    "\n",
    "# preview the top 20 frequencies\n",
    "kafkaWordTokensLowercaseFreqs.tabulate(20)"
   ]
  },
  {
   "cell_type": "markdown",
   "metadata": {},
   "source": [
    "#### I was curious what we are going to learn next and plotted some of my results (also, plotting is so much fun!)"
   ]
  },
  {
   "cell_type": "code",
   "execution_count": 310,
   "metadata": {},
   "outputs": [
    {
     "data": {
      "image/png": "[encoded data removed]",
      "text/plain": [
       "<Figure size 432x288 with 1 Axes>"
      ]
     },
     "metadata": {
      "needs_background": "light"
     },
     "output_type": "display_data"
    }
   ],
   "source": [
    "%matplotlib inline\n",
    "\n",
    "# plot the top frequency words of Kafka's corpus in a graph\n",
    "kafkaWordTokensLowercaseFreqs.plot(25, title=\"Top Frequency Word Tokens in Kafka\")"
   ]
  },
  {
   "cell_type": "markdown",
   "metadata": {},
   "source": [
    "#### That's interesting. Let's try again by filtering out the stopwords. "
   ]
  },
  {
   "cell_type": "code",
   "execution_count": 311,
   "metadata": {},
   "outputs": [],
   "source": [
    "stopwords = nltk.corpus.stopwords.words(\"german\")"
   ]
  },
  {
   "cell_type": "code",
   "execution_count": 354,
   "metadata": {},
   "outputs": [
    {
     "name": "stdout",
     "output_type": "stream",
     "text": [
      "     schon      sagte     gregor      vater      immer         ja       mehr       ganz        sah       karl     mutter  schwester vielleicht        gar     zimmer   offizier       zeit        tür       hand   reisende \n",
      "       261        231        218        152        140        140        134        132        121        117        113        113        109         96         96         93         87         85         80         79 \n"
     ]
    }
   ],
   "source": [
    "kafkaRealContentWordTokensLowercase = [word for word in kafkaWordTokensLowercase \\\n",
    "        if word[0].isalpha() and word not in stopwords]\n",
    "kafkaRealContentWordFrequencies = nltk.FreqDist(kafkaRealContentWordTokensLowercase)\n",
    "kafkaRealContentWordFrequencies.tabulate(20) # show a sample of the top 20"
   ]
  },
  {
   "cell_type": "markdown",
   "metadata": {},
   "source": [
    "### I'm going to add \"hätte\", \"dass\" and \"konnte\" to the stopwords list"
   ]
  },
  {
   "cell_type": "code",
   "execution_count": 389,
   "metadata": {},
   "outputs": [],
   "source": [
    "stopwords = nltk.corpus.stopwords.words(\"german\")"
   ]
  },
  {
   "cell_type": "code",
   "execution_count": 390,
   "metadata": {},
   "outputs": [],
   "source": [
    "stopwords.append(\"hätte\")\n",
    "stopwords.append(\"konnte\")\n",
    "stopwords.append(\"dass\")\n",
    "stopwords.append(\"gregor\")\n",
    "stopwords.remove(\"nicht\")\n",
    "stopwords.append(\"karl\")\n",
    "stopwords.append(\"mutter\")\n",
    "stopwords.append(\"schwester\")"
   ]
  },
  {
   "cell_type": "code",
   "execution_count": 391,
   "metadata": {},
   "outputs": [
    {
     "name": "stdout",
     "output_type": "stream",
     "text": [
      "     nicht      schon      sagte      vater      immer         ja       mehr       ganz        sah vielleicht        gar     zimmer   offizier       zeit        tür       hand   reisende       kopf       wohl       fast \n",
      "       889        261        231        152        140        140        134        132        121        109         96         96         93         87         85         80         79         77         75         75 \n"
     ]
    }
   ],
   "source": [
    "kafkaRealContentWordTokensLowercase = [word for word in kafkaWordTokensLowercase \\\n",
    "        if word[0].isalpha() and word not in stopwords]\n",
    "kafkaRealContentWordFrequencies = nltk.FreqDist(kafkaRealContentWordTokensLowercase)\n",
    "kafkaRealContentWordFrequencies.tabulate(20) # show a sample of the top 20"
   ]
  },
  {
   "cell_type": "code",
   "execution_count": 392,
   "metadata": {},
   "outputs": [
    {
     "data": {
      "image/png": "[encoded data removed]",
      "text/plain": [
       "<Figure size 432x288 with 1 Axes>"
      ]
     },
     "metadata": {
      "needs_background": "light"
     },
     "output_type": "display_data"
    }
   ],
   "source": [
    "%matplotlib inline\n",
    "\n",
    "# plot the top frequency words in a graph\n",
    "kafkaRealContentWordFrequencies.plot(25, title=\"Top Frequency Word Tokens in Kafka\")"
   ]
  },
  {
   "cell_type": "markdown",
   "metadata": {},
   "source": [
    "#### As a German native speaker it seems interesting to me, that he uses the word \"nicht\" (\"not\") so often. Based on this, one could conclude that Kafka makes a very high use of negations, but of course, to be sure, we would need to compare this result with other corpora. The word adverb \"gar\" is mostly used in colloquial speech with a negation (\"gar nicht\", \"not at all\"). It is definitly used more often in \"older\" works, such as works from the 18th and 19th century, so probably it's just a matter of the time period. Once again, one has to compare the results with corpora from the same time period.  "
   ]
  },
  {
   "cell_type": "markdown",
   "metadata": {},
   "source": [
    "### I noticed that there are 893 occurences of \"nicht\" in voyant, so I'm going to use regular expression to specify my results"
   ]
  },
  {
   "cell_type": "code",
   "execution_count": 400,
   "metadata": {},
   "outputs": [
    {
     "data": {
      "text/plain": [
       "893"
      ]
     },
     "execution_count": 400,
     "metadata": {},
     "output_type": "execute_result"
    }
   ],
   "source": [
    "nichtList=re.findall(\"[^A-Z]NICHT[^A-Z]\",kafkaString,)\n",
    "len(nichtList)"
   ]
  },
  {
   "cell_type": "code",
   "execution_count": 401,
   "metadata": {},
   "outputs": [
    {
     "data": {
      "text/plain": [
       "96"
      ]
     },
     "execution_count": 401,
     "metadata": {},
     "output_type": "execute_result"
    }
   ],
   "source": [
    "garList=re.findall(\"[^A-Z]GAR[^A-Z]\",kafkaString,)\n",
    "len(garList)"
   ]
  },
  {
   "cell_type": "markdown",
   "metadata": {},
   "source": [
    "### Here I tried the same with the \"most common\" function of the nltk, which gives a better overview"
   ]
  },
  {
   "cell_type": "code",
   "execution_count": 397,
   "metadata": {},
   "outputs": [
    {
     "data": {
      "text/plain": [
       "[('nicht', 889),\n",
       " ('schon', 261),\n",
       " ('sagte', 231),\n",
       " ('vater', 152),\n",
       " ('immer', 140),\n",
       " ('ja', 140),\n",
       " ('mehr', 134),\n",
       " ('ganz', 132),\n",
       " ('sah', 121),\n",
       " ('vielleicht', 109),\n",
       " ('gar', 96),\n",
       " ('zimmer', 96),\n",
       " ('offizier', 93),\n",
       " ('zeit', 87),\n",
       " ('tür', 85),\n",
       " ('hand', 80),\n",
       " ('reisende', 79),\n",
       " ('kopf', 77),\n",
       " ('wohl', 75),\n",
       " ('fast', 75)]"
      ]
     },
     "execution_count": 397,
     "metadata": {},
     "output_type": "execute_result"
    }
   ],
   "source": [
    "kafkaContentWordTokensLowercase = [word for word in kafkaWordTokensLowercase if word not in stopwords]\n",
    "kafkaContentWordTokensLowercaseFreqs = nltk.FreqDist(kafkaContentWordTokensLowercase)\n",
    "kafkaContentWordTokensLowercaseFreqs.most_common(20)"
   ]
  },
  {
   "cell_type": "markdown",
   "metadata": {},
   "source": [
    "### Next, I want to take a look at the concordances of the words \"gar\" and \"nicht\""
   ]
  },
  {
   "cell_type": "code",
   "execution_count": 398,
   "metadata": {},
   "outputs": [
    {
     "name": "stdout",
     "output_type": "stream",
     "text": [
      "Displaying 5 of 96 matches:\n",
      " GRABEN FALLEN . UND DAMIT WOLLTE MAN GAR NICHT AUFHÖREN . WIE MAN SICH IM LETZ\n",
      "H MIT . UND DOCH KANN ICH DIESE LAUNE GAR NICHT BENÜTZEN UND KANN NUR NACH HAUS\n",
      "RECHT VORBRINGEN KÖNNTE . ICH KANN ES GAR NICHT VERTEIDIGEN , DASS ICH AUF DIES\n",
      "U UNS ; DIE BESTEN FREUNDE ABER HABEN GAR NICHT AUF UNSER PFERD GESETZT , DA SI\n",
      " LEICHTHIN KLOPFEN . ENDLICH FÄNGT ES GAR AUS DEM TRÜB GEWORDENEN HIMMEL ZU REG\n",
      "Displaying 5 of 889 matches:\n",
      "NER ELTERN . VOR DEM GITTER HÖRTE ES NICHT AUF . KINDER IM LAUFSCHRITT WAREN IM\n",
      "E IN EINEM ATEMZUG STIEGEN , BIS ICH NICHT MEHR GLAUBTE , DASS SIE STIEGEN , SO\n",
      " , UND AUCH IHM WAR AN EINER ANTWORT NICHT VIEL GELEGEN . SPRANG DANN EINER ÜBE\n",
      "GERADE DU , BLEIB ZU HAUSE , WENN DU NICHT MITWILLST. « -- » KEINE GNADEN ! « -\n",
      "T IHR UNS HERUNTERWERFET , FÄLLT UNS NICHT EIN , SO GESCHEIT SIND WIR NOCH. « -\n"
     ]
    }
   ],
   "source": [
    "kafkaText = nltk.Text(nltk.word_tokenize(kafkaString))\n",
    "kafkaText.concordance(\"gar\", lines=5)\n",
    "kafkaText.concordance(\"nicht\", lines=5)"
   ]
  },
  {
   "cell_type": "markdown",
   "metadata": {},
   "source": [
    "### And here I'm looking for the most frequent collocations"
   ]
  },
  {
   "cell_type": "code",
   "execution_count": 399,
   "metadata": {},
   "outputs": [
    {
     "name": "stdout",
     "output_type": "stream",
     "text": [
      "DER REISENDE; DER OFFIZIER; DIE SCHWESTER; MIT DEM; EIN WENIG; DER\n",
      "VATER; GAR NICHT; SAGTE DER; AUF DEM; NICHT MEHR; DIE MUTTER; AUS DEM;\n",
      "DER VERURTEILTE; DEN KOPF; MIT EINEM; AUF DEN; ICH HABE; DIE TÜR; HERR\n",
      "SAMSA; WENN MAN\n"
     ]
    }
   ],
   "source": [
    "kafkaText.collocations()"
   ]
  }
 ],
 "metadata": {
  "kernelspec": {
   "display_name": "Python 3",
   "language": "python",
   "name": "python3"
  },
  "language_info": {
   "codemirror_mode": {
    "name": "ipython",
    "version": 3
   },
   "file_extension": ".py",
   "mimetype": "text/x-python",
   "name": "python",
   "nbconvert_exporter": "python",
   "pygments_lexer": "ipython3",
   "version": "3.7.1"
  }
 },
 "nbformat": 4,
 "nbformat_minor": 2
}
