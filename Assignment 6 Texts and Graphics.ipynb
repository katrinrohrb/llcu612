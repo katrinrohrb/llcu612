{
 "cells": [
  {
   "cell_type": "markdown",
   "metadata": {},
   "source": [
    "### 1) Final project"
   ]
  },
  {
   "cell_type": "markdown",
   "metadata": {},
   "source": [
    "The corpus for my final project comes from the CLiC Dickens project from Birningham University (clic.bham.ac.uk). It includes a 19th Century Reference Corpus, generically different but mostly novels (75 texts) and 19th Century Children’s Literature Corpus, mostly short stories and novels (71 texts). So this makes a total of 146 documents, with 80942448 words. The sources are the Gutenberg.org plain text UTF 8 files. The texts were cleaned accordingly: 1) Converted to unix line endings, 2)Non-authorial text has been removed, 2) The book title and the author has been reformatted to make it consistent across all texts, 4) Chapter headings have been reformatted to make it consistent across all texts, 5) manual corrections have been made. \n",
    "They also provide a bib. file with the following information: file name, name of the corpus, title, author, date (first publication), editor (optional). I'm thinking of building a smaller 19C German literature corpus as well (~100 texts) and clean it as described above. I'm going to extract the texts with urlib.request in Python from Gutenberg.org. "
   ]
  },
  {
   "cell_type": "markdown",
   "metadata": {},
   "source": [
    "### 2) Embed a Voyant tool\n",
    "\n",
    "I'm going to use 26 texts from my 19 Century Entlish literature corpus and look at the term frequency in voyant. I embed the tool in my jupyter notebook. "
   ]
  },
  {
   "cell_type": "code",
   "execution_count": 15,
   "metadata": {},
   "outputs": [],
   "source": [
    "from IPython.display import IFrame  "
   ]
  },
  {
   "cell_type": "code",
   "execution_count": 22,
   "metadata": {},
   "outputs": [
    {
     "data": {
      "text/html": [
       "\n",
       "        <iframe\n",
       "            width=\"400\"\n",
       "            height=\"400\"\n",
       "            src=\"https://voyant-tools.org/tool/Cirrus/?corpus=ec9e4e21f49d6fac85da57be8a354df6\"\n",
       "            frameborder=\"0\"\n",
       "            allowfullscreen\n",
       "        ></iframe>\n",
       "        "
      ],
      "text/plain": [
       "<IPython.lib.display.IFrame at 0x10bc07ba8>"
      ]
     },
     "execution_count": 22,
     "metadata": {},
     "output_type": "execute_result"
    }
   ],
   "source": [
    "IFrame(\"https://voyant-tools.org/tool/Cirrus/?corpus=ec9e4e21f49d6fac85da57be8a354df6\", width=400, height=400) "
   ]
  },
  {
   "cell_type": "markdown",
   "metadata": {},
   "source": [
    "Wow, that's great! \n",
    "\n",
    "Here we see the 55 most frequent terms in 29 texts from 19 Century English literature. I went with the default version stopword list in voyant. Words of high frequency that are used here that are of interest to me are: \"mind\", \"hand\", \"eyes\", \"face\", \"room\", \"house\", etc. .. . Words that describe body parts are used a lot. This goes very much  in lign with the assumption in literary history, that 19 Century literature focuses more on the body and mind - the psychological interiority of characters - at the excempt of the social world. \n"
   ]
  },
  {
   "cell_type": "markdown",
   "metadata": {},
   "source": [
    "### 3) Term frequency graph"
   ]
  },
  {
   "cell_type": "code",
   "execution_count": 23,
   "metadata": {},
   "outputs": [],
   "source": [
    "import nltk\n",
    "import glob\n",
    "import re\n",
    "import os"
   ]
  },
  {
   "cell_type": "code",
   "execution_count": 27,
   "metadata": {},
   "outputs": [
    {
     "data": {
      "text/plain": [
       "[]"
      ]
     },
     "execution_count": 27,
     "metadata": {},
     "output_type": "execute_result"
    }
   ],
   "source": [
    "textfiles = glob.glob(\"19English/*txt\") # list files in local directory  \n",
    "textfiles"
   ]
  },
  {
   "cell_type": "code",
   "execution_count": 28,
   "metadata": {},
   "outputs": [
    {
     "data": {
      "text/plain": [
       "0"
      ]
     },
     "execution_count": 28,
     "metadata": {},
     "output_type": "execute_result"
    }
   ],
   "source": [
    "os.system('cp -r ~/Desktop/19English ./') # copy files into subdirectory "
   ]
  },
  {
   "cell_type": "code",
   "execution_count": 29,
   "metadata": {},
   "outputs": [
    {
     "data": {
      "text/plain": [
       "['19English/AgnesG.txt',\n",
       " '19English/alli.txt',\n",
       " '19English/Antoni.txt',\n",
       " '19English/arma.txt',\n",
       " '19English/basker.txt',\n",
       " '19English/cran.txt',\n",
       " '19English/Deronda.txt',\n",
       " '19English/dorian.txt',\n",
       " '19English/dracula.txt',\n",
       " '19English/emma.txt',\n",
       " '19English/frank.txt',\n",
       " '19English/jane.txt',\n",
       " '19English/Jekyll.txt',\n",
       " '19English/Jude.txt',\n",
       " '19English/LadyAud.txt',\n",
       " '19English/mary.txt',\n",
       " '19English/mill.txt',\n",
       " '19English/native.txt',\n",
       " '19English/NorthS.txt',\n",
       " '19English/persuasion.txt',\n",
       " '19English/Pomp.txt',\n",
       " '19English/pride.txt',\n",
       " '19English/Prof.txt',\n",
       " '19English/sybil.txt',\n",
       " '19English/Tess.txt',\n",
       " '19English/vanity.txt',\n",
       " '19English/VivianG.txt',\n",
       " '19English/wh.txt',\n",
       " '19English/wwhite.txt']"
      ]
     },
     "execution_count": 29,
     "metadata": {},
     "output_type": "execute_result"
    }
   ],
   "source": [
    "textfiles = glob.glob(\"19English/*txt\") # list files in local directory  \n",
    "textfiles"
   ]
  },
  {
   "cell_type": "code",
   "execution_count": 30,
   "metadata": {},
   "outputs": [
    {
     "data": {
      "text/plain": [
       "29"
      ]
     },
     "execution_count": 30,
     "metadata": {},
     "output_type": "execute_result"
    }
   ],
   "source": [
    "textList=[]\n",
    "for textFile in textfiles: # create a list \n",
    "    f = open(textFile, \"r\")\n",
    "    textList = textList + [f.read().upper()]\n",
    "    f.close()\n",
    "len(textList)"
   ]
  },
  {
   "cell_type": "code",
   "execution_count": 31,
   "metadata": {},
   "outputs": [
    {
     "data": {
      "text/plain": [
       "25032399"
      ]
     },
     "execution_count": 31,
     "metadata": {},
     "output_type": "execute_result"
    }
   ],
   "source": [
    "novelsString=\"\"\n",
    "for text in textList:\n",
    "    novelsString = novelsString +\"\\n\"+text\n",
    "len(novelsString)"
   ]
  },
  {
   "cell_type": "code",
   "execution_count": 34,
   "metadata": {},
   "outputs": [
    {
     "name": "stdout",
     "output_type": "stream",
     "text": [
      "   the    and     to     of      i      a     in    was     he   that    her     it    you    his    had    she     as   with    not    for \n",
      "232673 143904 130454 127300  92306  91697  74053  59935  59375  58560  55082  52124  48072  47153  43081  42953  39799  37334  36070  34928 \n"
     ]
    }
   ],
   "source": [
    "# simple lowercase tokenize\n",
    "novelsTokensLowercase = nltk.word_tokenize(novelsString.lower())\n",
    "\n",
    "# filter out tokens that aren't words\n",
    "novelsWordTokensLowercase = [word for word in novelsTokensLowercase if word[0].isalpha()]\n",
    "\n",
    "# determine frequencies\n",
    "novelsWordTokensLowercaseFreqs = nltk.FreqDist(novelsWordTokensLowercase)\n",
    "\n",
    "# preview the top 20 frequencies\n",
    "novelsWordTokensLowercaseFreqs.tabulate(20)"
   ]
  },
  {
   "cell_type": "code",
   "execution_count": 35,
   "metadata": {},
   "outputs": [],
   "source": [
    "stopwords = nltk.corpus.stopwords.words(\"english\")"
   ]
  },
  {
   "cell_type": "code",
   "execution_count": 37,
   "metadata": {},
   "outputs": [
    {
     "name": "stdout",
     "output_type": "stream",
     "text": [
      "   said   would     one   could     n't     mr.  little     man    time    know    like    must   never     see    well   think    miss    come    much   might     say      go    mrs.    upon thought    made    good   first    lady     may   shall      us     way     old     day   house    came     two     sir   great    back    life    last     yet    away  father   still    face    long without nothing    eyes  looked    make  though \n",
      "  20852   15725   13401   11997   10999    9534    8219    7710    7596    7415    7096    6893    6685    6500    6254    6247    6202    6095    6063    6027    5843    5648    5606    5412    5364    5297    5180    5121    5043    4881    4826    4784    4772    4762    4726    4688    4619    4618    4612    4504    4466    4455    4364    4235    4227    4145    4145    4139    4074    4068    4063    4053    3953    3944    3918 \n"
     ]
    }
   ],
   "source": [
    "novelsRealContentWordTokensLowercase = [word for word in novelsWordTokensLowercase \\\n",
    "        if word[0].isalpha() and word not in stopwords]\n",
    "novelsRealContentWordFrequencies = nltk.FreqDist(novelsRealContentWordTokensLowercase)\n",
    "novelsRealContentWordFrequencies.tabulate(55)"
   ]
  },
  {
   "cell_type": "code",
   "execution_count": 39,
   "metadata": {},
   "outputs": [
    {
     "data": {
      "image/png": "[encoded data removed]",
      "text/plain": [
       "<Figure size 432x288 with 1 Axes>"
      ]
     },
     "metadata": {
      "needs_background": "light"
     },
     "output_type": "display_data"
    }
   ],
   "source": [
    "%matplotlib inline\n",
    "\n",
    "# plot the top frequency words of my corpus in a graph\n",
    "novelsRealContentWordFrequencies.plot(55, title=\"Top Frequency Word in 19C English literature\")"
   ]
  },
  {
   "cell_type": "markdown",
   "metadata": {},
   "source": [
    "Ok, I think 55 words are too much here. Anyway, I think python has less stopwords then voyant has, but body parts as \"eyes\" and \"face\" do also appear here. What is also interesting to me, is that \"time\" appears with such a high frequency. Now it is plotted by samples and counts, would be interested to plot it by year. "
   ]
  },
  {
   "cell_type": "code",
   "execution_count": null,
   "metadata": {},
   "outputs": [],
   "source": []
  }
 ],
 "metadata": {
  "kernelspec": {
   "display_name": "Python 3",
   "language": "python",
   "name": "python3"
  },
  "language_info": {
   "codemirror_mode": {
    "name": "ipython",
    "version": 3
   },
   "file_extension": ".py",
   "mimetype": "text/x-python",
   "name": "python",
   "nbconvert_exporter": "python",
   "pygments_lexer": "ipython3",
   "version": "3.7.1"
  }
 },
 "nbformat": 4,
 "nbformat_minor": 2
}
